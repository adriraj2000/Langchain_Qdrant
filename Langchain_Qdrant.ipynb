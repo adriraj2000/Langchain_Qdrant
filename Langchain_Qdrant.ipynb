{
 "cells": [
  {
   "cell_type": "code",
   "execution_count": null,
   "id": "28f64e7e-71c5-4c54-b51d-21a5370abd82",
   "metadata": {},
   "outputs": [],
   "source": [
    "#pip install langchain, openai, tiktoken (for tokenization of words), qdrant clieant, pyPDF2"
   ]
  },
  {
   "cell_type": "code",
   "execution_count": null,
   "id": "61fdf21e-ca33-4a01-a90d-cd5c971289ee",
   "metadata": {},
   "outputs": [],
   "source": []
  },
  {
   "cell_type": "code",
   "execution_count": null,
   "id": "5910ffe5-9f57-4fe2-a5bf-7caa81c24f64",
   "metadata": {},
   "outputs": [],
   "source": []
  },
  {
   "cell_type": "code",
   "execution_count": 30,
   "id": "4e72c55b-af0a-40e8-9e4d-1eb71aa9d4b4",
   "metadata": {},
   "outputs": [],
   "source": [
    "import os\n",
    "os.environ['OPENAI_API_KEY']=\"---\"\n",
    "os.environ['QDRANT_HOST'] = \"---\"\n",
    "os.environ['QDRANT_API_KEY'] = \"---\"\n",
    "openai.api_key = \"---\""
   ]
  },
  {
   "cell_type": "code",
   "execution_count": 47,
   "id": "0339ab1b-e561-4b8e-a0c0-912f515bf186",
   "metadata": {},
   "outputs": [
    {
     "data": {
      "text/plain": [
       "[-0.00930609367787838,\n",
       " 0.0033837351948022842,\n",
       " -0.013574400916695595,\n",
       " -0.009516549296677113,\n",
       " -0.00981250312179327]"
      ]
     },
     "execution_count": 47,
     "metadata": {},
     "output_type": "execute_result"
    }
   ],
   "source": [
    "import openai\n",
    "response = openai.Embedding.create(\n",
    "    input=\"My name is Adriraj\",\n",
    "    model=\"text-embedding-ada-002\"\n",
    ")\n",
    "embeddings = response['data'][0]['embedding']\n",
    "embeddings[:5]\n"
   ]
  },
  {
   "cell_type": "code",
   "execution_count": 3,
   "id": "d149db9f-c2ac-49b5-aaa1-25c5669eddbc",
   "metadata": {},
   "outputs": [],
   "source": [
    "# Create Qdrant Client\n",
    "from qdrant_client import QdrantClient\n",
    "\n",
    "client = QdrantClient(\n",
    "    url=\"---\", \n",
    "    api_key=\"---\",\n",
    ")"
   ]
  },
  {
   "cell_type": "code",
   "execution_count": 4,
   "id": "5200262d-6982-4d20-a91c-b2da1d2520d9",
   "metadata": {},
   "outputs": [
    {
     "data": {
      "text/plain": [
       "True"
      ]
     },
     "execution_count": 4,
     "metadata": {},
     "output_type": "execute_result"
    }
   ],
   "source": [
    "# Create collection/ database using client\n",
    "from qdrant_client.http import models\n",
    "\n",
    "client.recreate_collection(\n",
    "    collection_name=\"my-collection\",\n",
    "    vectors_config=models.VectorParams(size=1536, distance=models.Distance.COSINE),\n",
    ")"
   ]
  },
  {
   "cell_type": "code",
   "execution_count": 5,
   "id": "7f81c9eb-07c0-42fb-a184-165227c05b29",
   "metadata": {},
   "outputs": [
    {
     "name": "stderr",
     "output_type": "stream",
     "text": [
      "/Users/adriraj/Library/Python/3.9/lib/python/site-packages/langchain/vectorstores/qdrant.py:141: UserWarning: `embeddings` should be an instance of `Embeddings`.Using `embeddings` as `embedding_function` which is deprecated\n",
      "  warnings.warn(\n"
     ]
    }
   ],
   "source": [
    "# Create vector store\n",
    "from langchain.vectorstores import Qdrant\n",
    "doc_store = Qdrant(\n",
    "    client=client,\n",
    "    collection_name=\"my-collection\",\n",
    "    embeddings=embeddings\n",
    ")"
   ]
  },
  {
   "cell_type": "code",
   "execution_count": 21,
   "id": "85d15ab7-4b8b-4a5d-9fe7-0f0482f46649",
   "metadata": {},
   "outputs": [],
   "source": [
    "# Retrieve text from a sample pdf\n",
    "from PyPDF2 import PdfReader\n",
    "pdf = \"Stock_Market.pdf\"\n",
    "text = \"\"\n",
    "\n",
    "with open(pdf,'rb') as file:\n",
    "    pdf_reader = PdfReader(file)\n",
    "\n",
    "    for page in pdf_reader.pages:\n",
    "        text += page.extract_text()"
   ]
  },
  {
   "cell_type": "code",
   "execution_count": 20,
   "id": "d55f7486-1b63-4664-af9d-464148af5aab",
   "metadata": {},
   "outputs": [],
   "source": [
    "# Split the text into chunks and put it in vector store\n",
    "from langchain.text_splitter import CharacterTextSplitter\n",
    "text_splitter = CharacterTextSplitter(\n",
    "        separator=\"\\n\",\n",
    "        chunk_size=1000,\n",
    "        chunk_overlap=200,\n",
    "        length_function=len\n",
    "      )\n",
    "chunks = text_splitter.split_text(text)"
   ]
  },
  {
   "cell_type": "code",
   "execution_count": 27,
   "id": "5ce91012-a00a-4a65-8fd9-81aefbde7d59",
   "metadata": {},
   "outputs": [],
   "source": [
    "# Converting chunks into points which are central entity of Qdrant\n",
    "import uuid\n",
    "from qdrant_client.http.models import PointStruct\n",
    "\n",
    "points = []\n",
    "for idx,chunk in enumerate(chunks):\n",
    "    response = openai.Embedding.create(\n",
    "    input=chunk,\n",
    "    model=\"text-embedding-ada-002\" #OpenAI recommended\n",
    "    )\n",
    "    embeddings = response['data'][0]['embedding']\n",
    "    point_id = str(uuid.uuid4())  # Generate a unique ID for the point\n",
    "    points.append(PointStruct(id=point_id,payload={\"text\": chunk},vector=embeddings))"
   ]
  },
  {
   "cell_type": "code",
   "execution_count": 28,
   "id": "f4b61e4f-7fcc-4946-87c6-83d5c143be68",
   "metadata": {},
   "outputs": [
    {
     "data": {
      "text/plain": [
       "UpdateResult(operation_id=0, status=<UpdateStatus.COMPLETED: 'completed'>)"
      ]
     },
     "execution_count": 28,
     "metadata": {},
     "output_type": "execute_result"
    }
   ],
   "source": [
    "# Putting up the points on vector store\n",
    "client.upsert(\n",
    "    collection_name=\"my-collection\",\n",
    "    wait=True,\n",
    "    points=points\n",
    ")"
   ]
  },
  {
   "cell_type": "code",
   "execution_count": 31,
   "id": "5935cece-79da-4aae-ae19-e0901001f024",
   "metadata": {},
   "outputs": [],
   "source": [
    "# # Put vector store into retrievalChain\n",
    "# from langchain.chains import RetrievalQA\n",
    "# from langchain.llms import OpenAI\n",
    "\n",
    "# qa = RetrievalQA.from_chain_type(\n",
    "#     llm = OpenAI(),\n",
    "#     chain_type = \"stuff\",\n",
    "#     retriever = doc_store.as_retriever()\n",
    "# )"
   ]
  },
  {
   "cell_type": "code",
   "execution_count": 51,
   "id": "18074858-4ec6-4fef-b17b-6da592c2a9cf",
   "metadata": {},
   "outputs": [
    {
     "data": {
      "text/plain": [
       "'The factors that determine interest rates include:\\n- The demand for money: When there is high demand for borrowing, interest rates tend to increase. Conversely, when there is low demand, interest rates tend to decrease.\\n- The level of government borrowings: Government borrowing can affect interest rates as it increases the demand for funds and can compete with private borrowers.\\n- The supply of money: When the money supply increases, it can lead to lower interest rates as there is more money available for lending. Conversely, a decrease in the money supply can lead to higher interest rates.\\n- Inflation rate: Inflation erodes the purchasing power of money, so lenders demand higher interest rates to compensate for the expected loss in value over time.\\n- Policies of the central bank (such as the Reserve Bank of India) and government: These policies can influence interest rates through measures such as setting benchmark interest rates, implementing monetary policy, and regulating the financial sector.'"
      ]
     },
     "execution_count": 51,
     "metadata": {},
     "output_type": "execute_result"
    }
   ],
   "source": [
    "query = \"What factors determine interest rates\"\n",
    "response = openai.Embedding.create(\n",
    "    input=query,\n",
    "    model=\"text-embedding-ada-002\"\n",
    ")\n",
    "embeddings = response['data'][0]['embedding']\n",
    "search_result = client.search(\n",
    "    collection_name=\"my-collection\",\n",
    "    query_vector=embeddings,\n",
    "    limit=3\n",
    ")\n",
    "prompt=\"\"\n",
    "for result in search_result:\n",
    "    prompt += result.payload['text']\n",
    "concatenated_string = \" \".join([prompt,query])\n",
    "completion = openai.ChatCompletion.create(\n",
    "    model=\"gpt-3.5-turbo\",\n",
    "    messages=[\n",
    "        {\"role\": \"user\", \"content\": concatenated_string}\n",
    "    ]\n",
    ")\n",
    "completion.choices[0].message.content"
   ]
  },
  {
   "cell_type": "code",
   "execution_count": 50,
   "id": "27073378-bf24-434b-9a43-e03e9f7fa7dd",
   "metadata": {},
   "outputs": [
    {
     "data": {
      "text/plain": [
       "[ScoredPoint(id='663af104-10d2-4756-8c28-0635a4c39c20', version=0, score=0.71125096, payload={'text': 'national exchanges, which are permitted to have nationwide trading since inception. NSE was incorporated as a national stock exchange.\\n/xrhombus What is an ‘Equity’/Share?\\n Total equity capital of a company is divided into equal units of small \\ndenominations, each called a share. For example, in a company the total equity capital of Rs 2,00,00,000 is divided into 20,00,000 units of Rs 10 each. Each such unit of Rs 10 is called a Share. Thus, the company then is 11 said to have 20,00,000 equity shares of Rs 10 each. The holders of such shares are members of the company and have voting rights.\\n/xrhombus What is a ‘Debt Instrument’?\\n Debt instrument represents a contract whereby one party lends \\nmoney to another on pre-determined terms with regards to rate and periodicity of interest, repayment of principal amount by the borrower 7Basics of Financial Markets\\nto the lender. In the Indian securities markets, the term ‘bond’ is used'}, vector=None),\n",
       " ScoredPoint(id='e83c8eb7-afdc-4320-b691-892224a5887b', version=0, score=0.69939256, payload={'text': 'For more information on Basics of Financial Markets, please refer to \\nthe NCFM module :\\n Financial Markets : A Beginners’ Module. Details are available on \\nthe website - www.nseindia.com under the link ‘NCFM’.  Disclaimer\\n The information contained herein is subject to change without \\nprior notice. While every effort is made to ensure the accuracy and completeness of information contained, the Exchange makes no guarantee and assumes no liability for any errors or omissions of the information. No one can use the information as the basis for any claim, demand or cause of action.\\n Please refer to relevant regulations and circulars in case of speci ﬁ c \\ncases and problems.NATIONAL STOCK EXCHANGE OF INDIA LIMITED\\n“Exchange Plaza”, Bandra Kurla Complex,\\nBandra (East), Mumbai 400051, INDIA.\\nTel.: +91 22 2659 8100 / 66418100 Fax: +91 22 2659 8120\\nWebsite: www.nseindia.com • email: cc_nse@nse.co.in\\nFebruary, 2008'}, vector=None),\n",
       " ScoredPoint(id='2a66bdca-bb6c-4595-b2eb-72b0cdecb120', version=0, score=0.6956507, payload={'text': '6\\ninclude professional money management, buying in small amounts \\nand diversi ﬁ cation. Mutual fund units are issued and redeemed by \\nthe Fund Management Company based on the fund’s net asset value (NAV), which is determined at the end of each trading session. NAV is calculated as the value of all the shares held by the fund, minus expenses, divided by the number of units issued. Mutual Funds are usually long term investment vehicle though there some categories of mutual funds, such as money market mutual funds which are short term instruments.\\n/xrhombus What is meant by a Stock Exchange?\\n The Securities Contract (Regulation) Act, 1956 [SCRA] de ﬁ nes \\n‘Stock Exchange’ as any body of individuals, whether incorporated or not, constituted for the purpose of assisting, regulating or controlling the business of buying, selling or dealing in securities. Stock exchange could be a regional stock exchange whose area of operation/jurisdiction is speci ﬁ ed at the time of its recognition or'}, vector=None)]"
      ]
     },
     "execution_count": 50,
     "metadata": {},
     "output_type": "execute_result"
    }
   ],
   "source": [
    "search_result"
   ]
  },
  {
   "cell_type": "code",
   "execution_count": null,
   "id": "98880bd9-be99-4cf9-8f6a-0be0495be6be",
   "metadata": {},
   "outputs": [],
   "source": []
  }
 ],
 "metadata": {
  "kernelspec": {
   "display_name": "Python 3 (ipykernel)",
   "language": "python",
   "name": "python3"
  },
  "language_info": {
   "codemirror_mode": {
    "name": "ipython",
    "version": 3
   },
   "file_extension": ".py",
   "mimetype": "text/x-python",
   "name": "python",
   "nbconvert_exporter": "python",
   "pygments_lexer": "ipython3",
   "version": "3.9.6"
  }
 },
 "nbformat": 4,
 "nbformat_minor": 5
}
